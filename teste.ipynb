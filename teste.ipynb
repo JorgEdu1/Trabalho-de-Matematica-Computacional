{
 "cells": [
  {
   "cell_type": "code",
   "execution_count": 46,
   "metadata": {},
   "outputs": [
    {
     "name": "stdout",
     "output_type": "stream",
     "text": [
      "Número de vértices: 100\n",
      "Número de arestas: 474\n"
     ]
    }
   ],
   "source": [
    "import networkx as nx\n",
    "import random\n",
    "from ortools.linear_solver import pywraplp\n",
    "\n",
    "# Configurações gerais\n",
    "n = 100  # número de vértices\n",
    "p = 0.1  # probabilidade de aresta\n",
    "random.seed(42)\n",
    "\n",
    "# Gerando o grafo aleatório\n",
    "G = nx.gnp_random_graph(n, p)\n",
    "for (u, v) in G.edges():\n",
    "    G.edges[u, v]['weight'] = random.randint(10, 500)\n",
    "\n",
    "# Visualização básica (opcional)\n",
    "print(\"Número de vértices:\", G.number_of_nodes())\n",
    "print(\"Número de arestas:\", G.number_of_edges())\n"
   ]
  },
  {
   "cell_type": "code",
   "execution_count": 47,
   "metadata": {},
   "outputs": [],
   "source": [
    "import itertools\n",
    "\n",
    "def solve_with_subtour_elimination(G, d):\n",
    "    # Criando o solver\n",
    "    solver = pywraplp.Solver.CreateSolver('SCIP')\n",
    "    if not solver:\n",
    "        return None\n",
    "\n",
    "    # Variáveis de decisão: x[u, v] = 1 se a aresta (u, v) é selecionada, 0 caso contrário\n",
    "    x = {}\n",
    "    for u, v in G.edges():\n",
    "        x[u, v] = solver.BoolVar(f'x_{u}_{v}')\n",
    "        x[v, u] = solver.BoolVar(f'x_{v}_{u}')  # Considerando grafo não direcionado\n",
    "\n",
    "    # Função objetivo: minimizar o custo das arestas selecionadas\n",
    "    solver.Minimize(solver.Sum(G.edges[u, v]['weight'] * x[u, v] for u, v in G.edges()))\n",
    "\n",
    "    # 1. Restrição de árvore geradora no subgrafo dos centrais: \n",
    "    centrais = d.keys()\n",
    "    solver.Add(solver.Sum(x[u, v] for u, v in G.edges() if u in centrais and v in centrais) == len(centrais) - 1)\n",
    "\n",
    "    # 2. Eliminação de ciclos (Subtour Elimination Constraints - SECs) no subgrafo dos centrais\n",
    "    for subset in itertools.chain.from_iterable(itertools.combinations(centrais, r) for r in range(2, len(centrais))):\n",
    "        solver.Add(solver.Sum(x[u, v] for u, v in itertools.combinations(subset, 2) if G.has_edge(u, v)) <= len(subset) - 1)\n",
    "\n",
    "    # 3. Restrição de grau mínimo para os vértices centrais\n",
    "    for v in centrais:\n",
    "        solver.Add(solver.Sum(x[u, v] for u in G.neighbors(v)) >= d[v])\n",
    "\n",
    "    # 4. Cada terminal deve ser conectado a apenas um vértice central (grau 1)\n",
    "    terminals = set(G.nodes()) - set(centrais)  # Supondo que vértices não em 'd' são terminais\n",
    "    for t in terminals:\n",
    "        solver.Add(solver.Sum(x[t, v] for v in G.neighbors(t)) == 1)\n",
    "\n",
    "    # 5. Garantir que as variáveis são binárias (0 ou 1)\n",
    "    for u, v in G.edges():\n",
    "        solver.Add(x[u, v] == x[v, u])  # Impor que seja binário\n",
    "\n",
    "    # Limite de tempo de execução (opcional)\n",
    "    solver.SetTimeLimit(1800 * 1000)  # 1800 segundos\n",
    "\n",
    "    # Resolução do problema\n",
    "    status = solver.Solve()\n",
    "    if status == pywraplp.Solver.OPTIMAL:\n",
    "        print('Solução ótima encontrada!')\n",
    "        return solver.Objective().Value(), [(u, v) for u, v in G.edges() if x[u, v].solution_value() > 0.5]\n",
    "    else:\n",
    "        print('Nenhuma solução ótima encontrada.')\n",
    "        return None"
   ]
  },
  {
   "cell_type": "code",
   "execution_count": 48,
   "metadata": {},
   "outputs": [],
   "source": [
    "def solve_with_mtz(G):\n",
    "    solver = pywraplp.Solver.CreateSolver('SCIP')\n",
    "    if not solver:\n",
    "        return None\n",
    "\n",
    "    n = G.number_of_nodes()\n",
    "    c = n  # um número grande o suficiente\n",
    "\n",
    "    # Variáveis de decisão\n",
    "    y = {}\n",
    "    u_labels = {}  # Alterando o nome para evitar colisão com a variável 'u'\n",
    "    \n",
    "    for node in G.nodes():\n",
    "        u_labels[node] = solver.IntVar(0, c - 1, f'u_{node}')\n",
    "        for neighbor in G.nodes():\n",
    "            y[node, neighbor] = solver.BoolVar(f'y_{node}_{neighbor}')\n",
    "\n",
    "    # Função objetivo\n",
    "    solver.Minimize(solver.Sum(G.edges[u, v]['weight'] * y[u, v] for u, v in G.edges()))\n",
    "\n",
    "    # Restrição de árvore geradora direcionada\n",
    "    for v in G.nodes():\n",
    "        if v != 0:  # assumindo que o nó 0 é a raiz\n",
    "            solver.Add(solver.Sum(y[u, v] for u, v in G.edges() if u == v or v == v) == 1)\n",
    "\n",
    "    # Rótulos nos vértices (MTZ)\n",
    "    for u, v in G.edges():\n",
    "        solver.Add(u_labels[u] - u_labels[v] + c * y[u, v] <= c - 1)\n",
    "\n",
    "    # Limite de tempo de execução\n",
    "    solver.SetTimeLimit(1800 * 1000)  # 1800 segundos\n",
    "\n",
    "    # Resolução do problema\n",
    "    status = solver.Solve()\n",
    "    if status == pywraplp.Solver.OPTIMAL:\n",
    "        print('Solução ótima encontrada!')\n",
    "        return solver.Objective().Value()\n",
    "    else:\n",
    "        print('Nenhuma solução encontrada.')\n",
    "        return None\n"
   ]
  },
  {
   "cell_type": "code",
   "execution_count": 49,
   "metadata": {},
   "outputs": [
    {
     "name": "stdout",
     "output_type": "stream",
     "text": [
      "Grafo: [(1, 2, {'weight': 396}), (1, 3, {'weight': 283}), (1, 4, {'weight': 198}), (1, 5, {'weight': 256}), (1, 6, {'weight': 268}), (1, 7, {'weight': 260}), (1, 8, {'weight': 290}), (1, 9, {'weight': 228}), (1, 10, {'weight': 109}), (1, 11, {'weight': 257}), (1, 12, {'weight': 168}), (1, 13, {'weight': 170}), (1, 14, {'weight': 271}), (1, 15, {'weight': 343}), (1, 16, {'weight': 113}), (1, 17, {'weight': 37}), (1, 18, {'weight': 233}), (1, 19, {'weight': 299}), (1, 20, {'weight': 324}), (1, 21, {'weight': 351}), (2, 3, {'weight': 676}), (2, 4, {'weight': 535}), (2, 5, {'weight': 355}), (2, 6, {'weight': 405}), (2, 7, {'weight': 650}), (2, 8, {'weight': 266}), (2, 9, {'weight': 306}), (2, 10, {'weight': 320}), (2, 11, {'weight': 389}), (2, 12, {'weight': 485}), (2, 13, {'weight': 477}), (2, 14, {'weight': 667}), (2, 15, {'weight': 638}), (2, 16, {'weight': 506}), (2, 17, {'weight': 361}), (2, 18, {'weight': 519}), (2, 19, {'weight': 683}), (2, 20, {'weight': 675}), (2, 21, {'weight': 740}), (3, 4, {'weight': 277}), (3, 5, {'weight': 491}), (3, 6, {'weight': 408}), (3, 7, {'weight': 30}), (3, 8, {'weight': 555}), (3, 9, {'weight': 484}), (3, 10, {'weight': 361}), (3, 11, {'weight': 410}), (3, 12, {'weight': 234}), (3, 13, {'weight': 315}), (3, 14, {'weight': 55}), (3, 15, {'weight': 264}), (3, 16, {'weight': 170}), (3, 17, {'weight': 321}), (3, 18, {'weight': 347}), (3, 19, {'weight': 50}), (3, 20, {'weight': 155}), (3, 21, {'weight': 69}), (4, 5, {'weight': 243}), (4, 6, {'weight': 461}), (4, 7, {'weight': 273}), (4, 8, {'weight': 330}), (4, 9, {'weight': 259}), (4, 10, {'weight': 306}), (4, 11, {'weight': 452}), (4, 12, {'weight': 323}), (4, 13, {'weight': 60}), (4, 14, {'weight': 230}), (4, 15, {'weight': 466}), (4, 16, {'weight': 193}), (4, 17, {'weight': 210}), (4, 18, {'weight': 70}), (4, 19, {'weight': 319}), (4, 20, {'weight': 397}), (4, 21, {'weight': 340}), (5, 6, {'weight': 483}), (5, 7, {'weight': 477}), (5, 8, {'weight': 98}), (5, 9, {'weight': 54}), (5, 10, {'weight': 299}), (5, 11, {'weight': 468}), (5, 12, {'weight': 424}), (5, 13, {'weight': 186}), (5, 14, {'weight': 456}), (5, 15, {'weight': 600}), (5, 16, {'weight': 345}), (5, 17, {'weight': 229}), (5, 18, {'weight': 195}), (5, 19, {'weight': 522}), (5, 20, {'weight': 571}), (5, 21, {'weight': 559}), (6, 7, {'weight': 378}), (6, 8, {'weight': 470}), (6, 9, {'weight': 437}), (6, 10, {'weight': 184}), (6, 11, {'weight': 17}), (6, 12, {'weight': 175}), (6, 13, {'weight': 438}), (6, 14, {'weight': 432}), (6, 15, {'weight': 252}), (6, 16, {'weight': 295}), (6, 17, {'weight': 273}), (6, 18, {'weight': 501}), (6, 19, {'weight': 387}), (6, 20, {'weight': 329}), (6, 21, {'weight': 450}), (7, 8, {'weight': 537}), (7, 9, {'weight': 468}), (7, 10, {'weight': 333}), (7, 11, {'weight': 380}), (7, 12, {'weight': 204}), (7, 13, {'weight': 306}), (7, 14, {'weight': 71}), (7, 15, {'weight': 242}), (7, 16, {'weight': 147}), (7, 17, {'weight': 298}), (7, 18, {'weight': 343}), (7, 19, {'weight': 46}), (7, 20, {'weight': 138}), (7, 21, {'weight': 90}), (8, 9, {'weight': 72}), (8, 10, {'weight': 297}), (8, 11, {'weight': 454}), (8, 12, {'weight': 448}), (8, 13, {'weight': 270}), (8, 14, {'weight': 526}), (8, 15, {'weight': 626}), (8, 16, {'weight': 396}), (8, 17, {'weight': 255}), (8, 18, {'weight': 289}), (8, 19, {'weight': 580}), (8, 20, {'weight': 615}), (8, 21, {'weight': 624})]\n",
      "Centrais e graus mínimos: {1: 3, 2: 3, 3: 3, 4: 3, 5: 3, 6: 3, 7: 3, 8: 3}\n"
     ]
    }
   ],
   "source": [
    "import networkx as nx\n",
    "\n",
    "def read_graph_from_file(file_path):\n",
    "    with open(file_path, 'r') as f:\n",
    "        # Primeira linha: n (vértices), nc (centrais), m (arestas)\n",
    "        n, nc, m = map(int, f.readline().strip().split())\n",
    "        \n",
    "        # Próximas nc linhas: centrais e graus mínimos\n",
    "        centrais = {}\n",
    "        for _ in range(nc):\n",
    "            i, d = map(int, f.readline().strip().split())\n",
    "            centrais[i] = d\n",
    "        \n",
    "        # Próximas m linhas: arestas e custos\n",
    "        G = nx.Graph()\n",
    "        for _ in range(m):\n",
    "            i, j, c = map(int, f.readline().strip().split())\n",
    "            G.add_edge(i, j, weight=c)\n",
    "        \n",
    "    return G, centrais\n",
    "\n",
    "# Exemplo de uso\n",
    "file_path = './Instancias/tb8ch15_0.txt'\n",
    "grafo, centrais = read_graph_from_file(file_path)\n",
    "\n",
    "# Exibindo o grafo e as informações dos vértices centrais\n",
    "print(\"Grafo:\", grafo.edges(data=True))\n",
    "print(\"Centrais e graus mínimos:\", centrais)\n"
   ]
  },
  {
   "cell_type": "code",
   "execution_count": 50,
   "metadata": {},
   "outputs": [
    {
     "name": "stdout",
     "output_type": "stream",
     "text": [
      "Solução ótima encontrada!\n",
      "Subtour Elimination: Objective Value = (2972.0, [(1, 5), (1, 7), (1, 16), (1, 17), (2, 6), (2, 8), (2, 10), (3, 7), (3, 14), (3, 21), (4, 5), (4, 13), (4, 18), (5, 8), (6, 11), (6, 12), (7, 15), (7, 19), (7, 20), (8, 9)]), Time = 0.03656148910522461 seconds\n"
     ]
    }
   ],
   "source": [
    "import time\n",
    "\n",
    "def compare_formulations(G,d):\n",
    "    # Suponha que 'd' é um dicionário que você já definiu contendo os graus mínimos dos vértices centrais\n",
    "\n",
    "    start_time = time.time()\n",
    "    obj_value_subtour = solve_with_subtour_elimination(G, d)\n",
    "    time_subtour = time.time() - start_time\n",
    "\n",
    "    print(f\"Subtour Elimination: Objective Value = {obj_value_subtour}, Time = {time_subtour} seconds\")\n",
    "\n",
    "    # start_time = time.time()\n",
    "    # obj_value_mtz = solve_with_mtz(G, d)  # Supondo que você tenha uma função equivalente para MTZ\n",
    "    # time_mtz = time.time() - start_time\n",
    "\n",
    "    # print(f\"MTZ: Objective Value = {obj_value_mtz}, Time = {time_mtz} seconds\")\n",
    "\n",
    "# Exemplo de comparação\n",
    "compare_formulations(grafo, centrais)\n"
   ]
  }
 ],
 "metadata": {
  "kernelspec": {
   "display_name": "Python 3",
   "language": "python",
   "name": "python3"
  },
  "language_info": {
   "codemirror_mode": {
    "name": "ipython",
    "version": 3
   },
   "file_extension": ".py",
   "mimetype": "text/x-python",
   "name": "python",
   "nbconvert_exporter": "python",
   "pygments_lexer": "ipython3",
   "version": "3.10.12"
  }
 },
 "nbformat": 4,
 "nbformat_minor": 2
}
