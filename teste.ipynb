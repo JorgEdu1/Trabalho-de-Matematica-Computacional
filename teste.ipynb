{
 "cells": [
  {
   "cell_type": "code",
   "execution_count": 7,
   "metadata": {},
   "outputs": [
    {
     "name": "stdout",
     "output_type": "stream",
     "text": [
      "Número de vértices: 100\n",
      "Número de arestas: 474\n"
     ]
    }
   ],
   "source": [
    "import networkx as nx\n",
    "import random\n",
    "from ortools.linear_solver import pywraplp\n",
    "\n",
    "# Configurações gerais\n",
    "n = 100  # número de vértices\n",
    "p = 0.1  # probabilidade de aresta\n",
    "random.seed(42)\n",
    "\n",
    "# Gerando o grafo aleatório\n",
    "G = nx.gnp_random_graph(n, p)\n",
    "for (u, v) in G.edges():\n",
    "    G.edges[u, v]['weight'] = random.randint(10, 500)\n",
    "\n",
    "# Visualização básica (opcional)\n",
    "print(\"Número de vértices:\", G.number_of_nodes())\n",
    "print(\"Número de arestas:\", G.number_of_edges())\n"
   ]
  },
  {
   "cell_type": "code",
   "execution_count": 8,
   "metadata": {},
   "outputs": [],
   "source": [
    "import itertools\n",
    "\n",
    "def solve_with_subtour_elimination(G):\n",
    "    solver = pywraplp.Solver.CreateSolver('SCIP')\n",
    "    if not solver:\n",
    "        return None\n",
    "\n",
    "    # Variáveis de decisão\n",
    "    x = {}\n",
    "    for u, v in G.edges():\n",
    "        x[u, v] = solver.BoolVar(f'x_{u}_{v}')\n",
    "\n",
    "    # Função objetivo\n",
    "    solver.Minimize(solver.Sum(G.edges[u, v]['weight'] * x[u, v] for u, v in G.edges()))\n",
    "\n",
    "    # Restrição de árvore geradora\n",
    "    for v in G.nodes():\n",
    "        solver.Add(solver.Sum(x[u, v] for u, v in G.edges() if u == v or v == v) == 1)\n",
    "\n",
    "    # Eliminação de ciclos (SEC)\n",
    "    for subset in itertools.combinations(G.nodes(), 2):\n",
    "        u, v = subset\n",
    "        if u != v:\n",
    "            solver.Add(solver.Sum(x[i, j] for i, j in nx.edge_boundary(G, {u}, {v})) <= len(subset) - 1)\n",
    "\n",
    "    # Limite de tempo de execução\n",
    "    solver.SetTimeLimit(1800 * 1000)  # 1800 segundos\n",
    "\n",
    "    # Resolução do problema\n",
    "    status = solver.Solve()\n",
    "    if status == pywraplp.Solver.OPTIMAL:\n",
    "        print('Solução ótima encontrada!')\n",
    "        return solver.Objective().Value()\n",
    "    else:\n",
    "        print('Nenhuma solução encontrada.')\n",
    "        return None\n"
   ]
  },
  {
   "cell_type": "code",
   "execution_count": 11,
   "metadata": {},
   "outputs": [],
   "source": [
    "def solve_with_mtz(G):\n",
    "    solver = pywraplp.Solver.CreateSolver('SCIP')\n",
    "    if not solver:\n",
    "        return None\n",
    "\n",
    "    n = G.number_of_nodes()\n",
    "    c = n  # um número grande o suficiente\n",
    "\n",
    "    # Variáveis de decisão\n",
    "    y = {}\n",
    "    u_labels = {}  # Alterando o nome para evitar colisão com a variável 'u'\n",
    "    \n",
    "    for node in G.nodes():\n",
    "        u_labels[node] = solver.IntVar(0, c - 1, f'u_{node}')\n",
    "        for neighbor in G.nodes():\n",
    "            y[node, neighbor] = solver.BoolVar(f'y_{node}_{neighbor}')\n",
    "\n",
    "    # Função objetivo\n",
    "    solver.Minimize(solver.Sum(G.edges[u, v]['weight'] * y[u, v] for u, v in G.edges()))\n",
    "\n",
    "    # Restrição de árvore geradora direcionada\n",
    "    for v in G.nodes():\n",
    "        if v != 0:  # assumindo que o nó 0 é a raiz\n",
    "            solver.Add(solver.Sum(y[u, v] for u, v in G.edges() if u == v or v == v) == 1)\n",
    "\n",
    "    # Rótulos nos vértices (MTZ)\n",
    "    for u, v in G.edges():\n",
    "        solver.Add(u_labels[u] - u_labels[v] + c * y[u, v] <= c - 1)\n",
    "\n",
    "    # Limite de tempo de execução\n",
    "    solver.SetTimeLimit(1800 * 1000)  # 1800 segundos\n",
    "\n",
    "    # Resolução do problema\n",
    "    status = solver.Solve()\n",
    "    if status == pywraplp.Solver.OPTIMAL:\n",
    "        print('Solução ótima encontrada!')\n",
    "        return solver.Objective().Value()\n",
    "    else:\n",
    "        print('Nenhuma solução encontrada.')\n",
    "        return None\n"
   ]
  },
  {
   "cell_type": "code",
   "execution_count": 49,
   "metadata": {},
   "outputs": [
    {
     "name": "stdout",
     "output_type": "stream",
     "text": [
      "Grafo: [(1, 2, {'weight': 396}), (1, 3, {'weight': 283}), (1, 4, {'weight': 198}), (1, 5, {'weight': 256}), (1, 6, {'weight': 268}), (1, 7, {'weight': 260}), (1, 8, {'weight': 290}), (1, 9, {'weight': 228}), (1, 10, {'weight': 109}), (1, 11, {'weight': 257}), (1, 12, {'weight': 168}), (1, 13, {'weight': 170}), (1, 14, {'weight': 271}), (1, 15, {'weight': 343}), (1, 16, {'weight': 113}), (1, 17, {'weight': 37}), (1, 18, {'weight': 233}), (1, 19, {'weight': 299}), (1, 20, {'weight': 324}), (1, 21, {'weight': 351}), (1, 22, {'weight': 257}), (1, 23, {'weight': 126}), (1, 24, {'weight': 302}), (1, 25, {'weight': 255}), (1, 26, {'weight': 101}), (1, 27, {'weight': 172}), (1, 28, {'weight': 198}), (1, 29, {'weight': 179}), (1, 30, {'weight': 282}), (1, 31, {'weight': 184}), (1, 32, {'weight': 23}), (1, 33, {'weight': 286}), (1, 34, {'weight': 150}), (1, 35, {'weight': 316}), (1, 36, {'weight': 248}), (1, 37, {'weight': 305}), (1, 38, {'weight': 122}), (1, 39, {'weight': 306}), (1, 40, {'weight': 290}), (1, 41, {'weight': 377}), (1, 42, {'weight': 191}), (1, 43, {'weight': 166}), (1, 44, {'weight': 119}), (1, 45, {'weight': 184}), (1, 46, {'weight': 184}), (1, 47, {'weight': 238}), (1, 48, {'weight': 315}), (1, 49, {'weight': 123}), (1, 50, {'weight': 305}), (1, 51, {'weight': 233}), (1, 52, {'weight': 172}), (1, 53, {'weight': 266}), (1, 54, {'weight': 354}), (1, 55, {'weight': 110}), (1, 56, {'weight': 217}), (1, 57, {'weight': 150}), (1, 58, {'weight': 203}), (1, 59, {'weight': 233}), (1, 60, {'weight': 287}), (1, 61, {'weight': 187}), (1, 62, {'weight': 300}), (2, 3, {'weight': 676}), (2, 4, {'weight': 535}), (2, 5, {'weight': 355}), (2, 6, {'weight': 405}), (2, 7, {'weight': 650}), (2, 8, {'weight': 266}), (2, 9, {'weight': 306}), (2, 10, {'weight': 320}), (2, 11, {'weight': 389}), (2, 12, {'weight': 485}), (2, 13, {'weight': 477}), (2, 14, {'weight': 667}), (2, 15, {'weight': 638}), (2, 16, {'weight': 506}), (2, 17, {'weight': 361}), (2, 18, {'weight': 519}), (2, 19, {'weight': 683}), (2, 20, {'weight': 675}), (2, 21, {'weight': 740}), (2, 22, {'weight': 643}), (2, 23, {'weight': 482}), (2, 24, {'weight': 393}), (2, 25, {'weight': 463}), (2, 26, {'weight': 497}), (2, 27, {'weight': 337}), (2, 28, {'weight': 514}), (2, 29, {'weight': 326}), (2, 30, {'weight': 607}), (2, 31, {'weight': 246}), (2, 32, {'weight': 373}), (2, 33, {'weight': 681}), (2, 34, {'weight': 348}), (2, 35, {'weight': 79}), (2, 36, {'weight': 165}), (2, 37, {'weight': 657}), (2, 38, {'weight': 515}), (2, 39, {'weight': 670}), (2, 40, {'weight': 347}), (2, 41, {'weight': 607}), (2, 42, {'weight': 250}), (2, 43, {'weight': 243}), (2, 44, {'weight': 507}), (2, 45, {'weight': 398}), (2, 46, {'weight': 227}), (2, 47, {'weight': 514}), (2, 48, {'weight': 672}), (2, 49, {'weight': 286}), (2, 50, {'weight': 698}), (2, 51, {'weight': 162}), (2, 52, {'weight': 388}), (2, 53, {'weight': 593}), (2, 54, {'weight': 42}), (2, 55, {'weight': 499}), (2, 56, {'weight': 242}), (2, 57, {'weight': 542}), (2, 58, {'weight': 311}), (2, 59, {'weight': 524}), (2, 60, {'weight': 374}), (2, 61, {'weight': 362}), (2, 62, {'weight': 515}), (3, 4, {'weight': 277}), (3, 5, {'weight': 491}), (3, 6, {'weight': 408}), (3, 7, {'weight': 30}), (3, 8, {'weight': 555}), (3, 9, {'weight': 484}), (3, 10, {'weight': 361}), (3, 11, {'weight': 410}), (3, 12, {'weight': 234}), (3, 13, {'weight': 315}), (3, 14, {'weight': 55}), (3, 15, {'weight': 264}), (3, 16, {'weight': 170}), (3, 17, {'weight': 321}), (3, 18, {'weight': 347}), (3, 19, {'weight': 50}), (3, 20, {'weight': 155}), (3, 21, {'weight': 69}), (3, 22, {'weight': 47}), (3, 23, {'weight': 205}), (3, 24, {'weight': 521}), (3, 25, {'weight': 346}), (3, 26, {'weight': 186}), (3, 27, {'weight': 423}), (3, 28, {'weight': 225}), (3, 29, {'weight': 391}), (3, 30, {'weight': 201}), (3, 31, {'weight': 464}), (3, 32, {'weight': 306}), (3, 33, {'weight': 28}), (3, 34, {'weight': 399}), (3, 35, {'weight': 596}), (3, 36, {'weight': 532}), (3, 37, {'weight': 150}), (3, 38, {'weight': 161}), (3, 39, {'weight': 118}), (3, 40, {'weight': 528}), (3, 41, {'weight': 360}), (3, 42, {'weight': 443}), (3, 43, {'weight': 449}), (3, 44, {'weight': 168}), (3, 45, {'weight': 340}), (3, 46, {'weight': 468}), (3, 47, {'weight': 359}), (3, 48, {'weight': 138}), (3, 49, {'weight': 391}), (3, 50, {'weight': 23}), (3, 51, {'weight': 515}), (3, 52, {'weight': 394}), (3, 53, {'weight': 196}), (3, 54, {'weight': 635}), (3, 55, {'weight': 205}), (3, 56, {'weight': 493}), (3, 57, {'weight': 166}), (3, 58, {'weight': 416}), (3, 59, {'weight': 342}), (3, 60, {'weight': 514}), (3, 61, {'weight': 423}), (3, 62, {'weight': 349}), (4, 5, {'weight': 243}), (4, 6, {'weight': 461}), (4, 7, {'weight': 273}), (4, 8, {'weight': 330}), (4, 9, {'weight': 259}), (4, 10, {'weight': 306}), (4, 11, {'weight': 452}), (4, 12, {'weight': 323}), (4, 13, {'weight': 60}), (4, 14, {'weight': 230}), (4, 15, {'weight': 466}), (4, 16, {'weight': 193}), (4, 17, {'weight': 210}), (4, 18, {'weight': 70}), (4, 19, {'weight': 319}), (4, 20, {'weight': 397}), (4, 21, {'weight': 340}), (4, 22, {'weight': 283}), (4, 23, {'weight': 266}), (4, 24, {'weight': 259}), (4, 25, {'weight': 435}), (4, 26, {'weight': 160}), (4, 27, {'weight': 206}), (4, 28, {'weight': 343}), (4, 29, {'weight': 378}), (4, 30, {'weight': 394}), (4, 31, {'weight': 288}), (4, 32, {'weight': 213}), (4, 33, {'weight': 260}), (4, 34, {'weight': 189}), (4, 35, {'weight': 463}), (4, 36, {'weight': 369}), (4, 37, {'weight': 383}), (4, 38, {'weight': 190}), (4, 39, {'weight': 365}), (4, 40, {'weight': 279}), (4, 41, {'weight': 530}), (4, 42, {'weight': 380}), (4, 43, {'weight': 294}), (4, 44, {'weight': 212}), (4, 45, {'weight': 376}), (4, 46, {'weight': 308}), (4, 47, {'weight': 82}), (4, 48, {'weight': 382}), (4, 49, {'weight': 309}), (4, 50, {'weight': 286}), (4, 51, {'weight': 380}), (4, 52, {'weight': 158}), (4, 53, {'weight': 381}), (4, 54, {'weight': 493}), (4, 55, {'weight': 119}), (4, 56, {'weight': 300}), (4, 57, {'weight': 126}), (4, 58, {'weight': 401}), (4, 59, {'weight': 65}), (4, 60, {'weight': 257}), (4, 61, {'weight': 190}), (4, 62, {'weight': 471}), (5, 6, {'weight': 483}), (5, 7, {'weight': 477}), (5, 8, {'weight': 98}), (5, 9, {'weight': 54}), (5, 10, {'weight': 299}), (5, 11, {'weight': 468}), (5, 12, {'weight': 424}), (5, 13, {'weight': 186}), (5, 14, {'weight': 456}), (5, 15, {'weight': 600}), (5, 16, {'weight': 345}), (5, 17, {'weight': 229}), (5, 18, {'weight': 195}), (5, 19, {'weight': 522}), (5, 20, {'weight': 571}), (5, 21, {'weight': 559}), (5, 22, {'weight': 481}), (5, 23, {'weight': 382}), (5, 24, {'weight': 52}), (5, 25, {'weight': 494}), (5, 26, {'weight': 315}), (5, 27, {'weight': 84}), (5, 28, {'weight': 455}), (5, 29, {'weight': 373}), (5, 30, {'weight': 537}), (5, 31, {'weight': 148}), (5, 32, {'weight': 247}), (5, 33, {'weight': 481}), (5, 34, {'weight': 106}), (5, 35, {'weight': 304}), (5, 36, {'weight': 205}), (5, 37, {'weight': 553}), (5, 38, {'weight': 349}), (5, 39, {'weight': 548}), (5, 40, {'weight': 37}), (5, 41, {'weight': 629}), (5, 42, {'weight': 325}), (5, 43, {'weight': 179}), (5, 44, {'weight': 358}), (5, 45, {'weight': 414}), (5, 46, {'weight': 178}), (5, 47, {'weight': 186}), (5, 48, {'weight': 560}), (5, 49, {'weight': 274}), (5, 50, {'weight': 506}), (5, 51, {'weight': 245}), (5, 52, {'weight': 97}), (5, 53, {'weight': 522}), (5, 54, {'weight': 320}), (5, 55, {'weight': 287}), (5, 56, {'weight': 125}), (5, 57, {'weight': 324}), (5, 58, {'weight': 384}), (5, 59, {'weight': 201}), (5, 60, {'weight': 33}), (5, 61, {'weight': 70}), (5, 62, {'weight': 545}), (6, 7, {'weight': 378}), (6, 8, {'weight': 470}), (6, 9, {'weight': 437}), (6, 10, {'weight': 184}), (6, 11, {'weight': 17}), (6, 12, {'weight': 175}), (6, 13, {'weight': 438}), (6, 14, {'weight': 432}), (6, 15, {'weight': 252}), (6, 16, {'weight': 295}), (6, 17, {'weight': 273}), (6, 18, {'weight': 501}), (6, 19, {'weight': 387}), (6, 20, {'weight': 329}), (6, 21, {'weight': 450}), (6, 22, {'weight': 362}), (6, 23, {'weight': 220}), (6, 24, {'weight': 535}), (6, 25, {'weight': 72}), (6, 26, {'weight': 317}), (6, 27, {'weight': 402}), (6, 28, {'weight': 184}), (6, 29, {'weight': 111}), (6, 30, {'weight': 249}), (6, 31, {'weight': 349}), (6, 32, {'weight': 261}), (6, 33, {'weight': 428}), (6, 34, {'weight': 387}), (6, 35, {'weight': 341}), (6, 36, {'weight': 352}), (6, 37, {'weight': 315}), (6, 38, {'weight': 304}), (6, 39, {'weight': 342}), (6, 40, {'weight': 508}), (6, 41, {'weight': 202}), (6, 42, {'weight': 179}), (6, 43, {'weight': 315}), (6, 44, {'weight': 280}), (6, 45, {'weight': 85}), (6, 46, {'weight': 325}), (6, 47, {'weight': 506}), (6, 48, {'weight': 334}), (6, 49, {'weight': 210}), (6, 50, {'weight': 431}), (6, 51, {'weight': 303}), (6, 52, {'weight': 423}), (6, 53, {'weight': 242}), (6, 54, {'weight': 377}), (6, 55, {'weight': 351}), (6, 56, {'weight': 386}), (6, 57, {'weight': 372}), (6, 58, {'weight': 108}), (6, 59, {'weight': 502}), (6, 60, {'weight': 516}), (6, 61, {'weight': 426}), (6, 62, {'weight': 113}), (7, 8, {'weight': 537}), (7, 9, {'weight': 468}), (7, 10, {'weight': 333}), (7, 11, {'weight': 380}), (7, 12, {'weight': 204}), (7, 13, {'weight': 306}), (7, 14, {'weight': 71}), (7, 15, {'weight': 242}), (7, 16, {'weight': 147}), (7, 17, {'weight': 298}), (7, 18, {'weight': 343}), (7, 19, {'weight': 46}), (7, 20, {'weight': 138}), (7, 21, {'weight': 90}), (7, 22, {'weight': 19}), (7, 23, {'weight': 176}), (7, 24, {'weight': 509}), (7, 25, {'weight': 316}), (7, 26, {'weight': 167}), (7, 27, {'weight': 406}), (7, 28, {'weight': 195}), (7, 29, {'weight': 361}), (7, 30, {'weight': 176}), (7, 31, {'weight': 443}), (7, 32, {'weight': 282}), (7, 33, {'weight': 52}), (7, 34, {'weight': 382}), (7, 35, {'weight': 570}), (7, 36, {'weight': 509}), (7, 37, {'weight': 131}), (7, 38, {'weight': 139}), (7, 39, {'weight': 102}), (7, 40, {'weight': 514}), (7, 41, {'weight': 335}), (7, 42, {'weight': 415}), (7, 43, {'weight': 426}), (7, 44, {'weight': 143}), (7, 45, {'weight': 310}), (7, 46, {'weight': 445}), (7, 47, {'weight': 354}), (7, 48, {'weight': 122}), (7, 49, {'weight': 364}), (7, 50, {'weight': 53}), (7, 51, {'weight': 490}), (7, 52, {'weight': 380}), (7, 53, {'weight': 169}), (7, 54, {'weight': 609}), (7, 55, {'weight': 190}), (7, 56, {'weight': 473}), (7, 57, {'weight': 155}), (7, 58, {'weight': 387}), (7, 59, {'weight': 338}), (7, 60, {'weight': 501}), (7, 61, {'weight': 408}), (7, 62, {'weight': 320}), (8, 9, {'weight': 72}), (8, 10, {'weight': 297}), (8, 11, {'weight': 454}), (8, 12, {'weight': 448}), (8, 13, {'weight': 270}), (8, 14, {'weight': 526}), (8, 15, {'weight': 626}), (8, 16, {'weight': 396}), (8, 17, {'weight': 255}), (8, 18, {'weight': 289}), (8, 19, {'weight': 580}), (8, 20, {'weight': 615}), (8, 21, {'weight': 624}), (8, 22, {'weight': 538}), (8, 23, {'weight': 415}), (8, 24, {'weight': 127}), (8, 25, {'weight': 495}), (8, 26, {'weight': 370}), (8, 27, {'weight': 132}), (8, 28, {'weight': 480}), (8, 29, {'weight': 359}), (8, 30, {'weight': 570}), (8, 31, {'weight': 123}), (8, 32, {'weight': 274}), (8, 33, {'weight': 549}), (8, 34, {'weight': 155}), (8, 35, {'weight': 227}), (8, 36, {'weight': 138}), (8, 37, {'weight': 596}), (8, 38, {'weight': 401}), (8, 39, {'weight': 596}), (8, 40, {'weight': 81}), (8, 41, {'weight': 639}), (8, 42, {'weight': 296}), (8, 43, {'weight': 156}), (8, 44, {'weight': 406}), (8, 45, {'weight': 414}), (8, 46, {'weight': 145}), (8, 47, {'weight': 282}), (8, 48, {'weight': 605}), (8, 49, {'weight': 263}), (8, 50, {'weight': 573}), (8, 51, {'weight': 188}), (8, 52, {'weight': 172}), (8, 53, {'weight': 554}), (8, 54, {'weight': 235}), (8, 55, {'weight': 350}), (8, 56, {'weight': 84}), (8, 57, {'weight': 391}), (8, 58, {'weight': 364}), (8, 59, {'weight': 296}), (8, 60, {'weight': 110}), (8, 61, {'weight': 140}), (8, 62, {'weight': 549}), (9, 10, {'weight': 255}), (9, 11, {'weight': 421}), (9, 12, {'weight': 392}), (9, 13, {'weight': 199}), (9, 14, {'weight': 455}), (9, 15, {'weight': 570}), (9, 16, {'weight': 328}), (9, 17, {'weight': 196}), (9, 18, {'weight': 223}), (9, 19, {'weight': 512}), (9, 20, {'weight': 551}), (9, 21, {'weight': 554}), (9, 22, {'weight': 469}), (9, 23, {'weight': 355}), (9, 24, {'weight': 105}), (9, 25, {'weight': 452}), (9, 26, {'weight': 302}), (9, 27, {'weight': 61}), (9, 28, {'weight': 424}), (9, 29, {'weight': 325}), (9, 30, {'weight': 511}), (9, 31, {'weight': 95}), (9, 32, {'weight': 215}), (9, 33, {'weight': 478}), (9, 34, {'weight': 85}), (9, 35, {'weight': 251}), (9, 36, {'weight': 151}), (9, 37, {'weight': 533}), (9, 38, {'weight': 334}), (9, 39, {'weight': 530}), (9, 40, {'weight': 71}), (9, 41, {'weight': 591}), (9, 42, {'weight': 274}), (9, 43, {'weight': 126}), (9, 44, {'weight': 340}), (9, 45, {'weight': 371}), (9, 46, {'weight': 124}), (9, 47, {'weight': 216}), (9, 48, {'weight': 541}), (9, 49, {'weight': 226}), (9, 50, {'weight': 502}), (9, 51, {'weight': 190}), (9, 52, {'weight': 101}), (9, 53, {'weight': 495}), (9, 54, {'weight': 270}), (9, 55, {'weight': 279}), (9, 56, {'weight': 70}), (9, 57, {'weight': 320}), (9, 58, {'weight': 335}), (9, 59, {'weight': 229}), (9, 60, {'weight': 84}), (9, 61, {'weight': 68}), (9, 62, {'weight': 505}), (10, 11, {'weight': 169}), (10, 12, {'weight': 169}), (10, 13, {'weight': 270}), (10, 14, {'weight': 361}), (10, 15, {'weight': 339}), (10, 16, {'weight': 197}), (10, 17, {'weight': 98}), (10, 18, {'weight': 332}), (10, 19, {'weight': 363}), (10, 20, {'weight': 357}), (10, 21, {'weight': 422}), (10, 22, {'weight': 324}), (10, 23, {'weight': 162}), (10, 24, {'weight': 351}), (10, 25, {'weight': 198}), (10, 26, {'weight': 199}), (10, 27, {'weight': 217}), (10, 28, {'weight': 200}), (10, 29, {'weight': 77}), (10, 30, {'weight': 295}), (10, 31, {'weight': 174}), (10, 32, {'weight': 92}), (10, 33, {'weight': 369}), (10, 34, {'weight': 203}), (10, 35, {'weight': 241}), (10, 36, {'weight': 204}), (10, 37, {'weight': 339}), (10, 38, {'weight': 207}), (10, 39, {'weight': 350}), (10, 40, {'weight': 326}), (10, 41, {'weight': 341}), (10, 42, {'weight': 85}), (10, 43, {'weight': 142}), (10, 44, {'weight': 193}), (10, 45, {'weight': 116}), (10, 46, {'weight': 157}), (10, 47, {'weight': 335}), (10, 48, {'weight': 353}), (10, 49, {'weight': 38}), (10, 50, {'weight': 384}), (10, 51, {'weight': 169}), (10, 52, {'weight': 240}), (10, 53, {'weight': 280}), (10, 54, {'weight': 281}), (10, 55, {'weight': 217}), (10, 56, {'weight': 213}), (10, 57, {'weight': 253}), (10, 58, {'weight': 97}), (10, 59, {'weight': 334}), (10, 60, {'weight': 333}), (10, 61, {'weight': 242}), (10, 62, {'weight': 251}), (11, 12, {'weight': 175}), (11, 13, {'weight': 428}), (11, 14, {'weight': 432}), (11, 15, {'weight': 264}), (11, 16, {'weight': 290}), (11, 17, {'weight': 261}), (11, 18, {'weight': 490}), (11, 19, {'weight': 391}), (11, 20, {'weight': 337}), (11, 21, {'weight': 454}), (11, 22, {'weight': 364}), (11, 23, {'weight': 217}), (11, 24, {'weight': 520}), (11, 25, {'weight': 82}), (11, 26, {'weight': 310}), (11, 27, {'weight': 387}), (11, 28, {'weight': 187}), (11, 29, {'weight': 95}), (11, 30, {'weight': 257}), (11, 31, {'weight': 332}), (11, 32, {'weight': 249}), (11, 33, {'weight': 428}), (11, 34, {'weight': 373}), (11, 35, {'weight': 324}), (11, 36, {'weight': 335}), (11, 37, {'weight': 322}), (11, 38, {'weight': 299}), (11, 39, {'weight': 348}), (11, 40, {'weight': 492}), (11, 41, {'weight': 218}), (11, 42, {'weight': 162}), (11, 43, {'weight': 299}), (11, 44, {'weight': 277}), (11, 45, {'weight': 78}), (11, 46, {'weight': 309}), (11, 47, {'weight': 495}), (11, 48, {'weight': 341}), (11, 49, {'weight': 194}), (11, 50, {'weight': 433}), (11, 51, {'weight': 286}), (11, 52, {'weight': 409}), (11, 53, {'weight': 249}), (11, 54, {'weight': 360}), (11, 55, {'weight': 344}), (11, 56, {'weight': 370}), (11, 57, {'weight': 366}), (11, 58, {'weight': 91}), (11, 59, {'weight': 491}), (11, 60, {'weight': 501}), (11, 61, {'weight': 412}), (11, 62, {'weight': 128}), (12, 13, {'weight': 318}), (12, 14, {'weight': 257}), (12, 15, {'weight': 177}), (12, 16, {'weight': 133}), (12, 17, {'weight': 196}), (12, 18, {'weight': 377}), (12, 19, {'weight': 219}), (12, 20, {'weight': 190}), (12, 21, {'weight': 282}), (12, 22, {'weight': 189}), (12, 23, {'weight': 56}), (12, 24, {'weight': 471}), (12, 25, {'weight': 122}), (12, 26, {'weight': 163}), (12, 27, {'weight': 340}), (12, 28, {'weight': 32}), (12, 29, {'weight': 167}), (12, 30, {'weight': 125}), (12, 31, {'weight': 330}), (12, 32, {'weight': 177}), (12, 33, {'weight': 253}), (12, 34, {'weight': 318}), (12, 35, {'weight': 407}), (12, 36, {'weight': 373}), (12, 37, {'weight': 172}), (12, 38, {'weight': 140}), (12, 39, {'weight': 189}), (12, 40, {'weight': 457}), (12, 41, {'weight': 212}), (12, 42, {'weight': 235}), (12, 43, {'weight': 302}), (12, 44, {'weight': 116}), (12, 45, {'weight': 107}), (12, 46, {'weight': 319}), (12, 47, {'weight': 385}), (12, 48, {'weight': 188}), (12, 49, {'weight': 207}), (12, 50, {'weight': 258}), (12, 51, {'weight': 338}), (12, 52, {'weight': 340}), (12, 53, {'weight': 111}), (12, 54, {'weight': 447}), (12, 55, {'weight': 204}), (12, 56, {'weight': 368}), (12, 57, {'weight': 212}), (12, 58, {'weight': 191}), (12, 59, {'weight': 376}), (12, 60, {'weight': 456}), (12, 61, {'weight': 356}), (12, 62, {'weight': 148}), (13, 14, {'weight': 275}), (13, 15, {'weight': 476}), (13, 16, {'weight': 200}), (13, 17, {'weight': 172}), (13, 18, {'weight': 62}), (13, 19, {'weight': 353}), (13, 20, {'weight': 420}), (13, 21, {'weight': 382}), (13, 22, {'weight': 314}), (13, 23, {'weight': 264}), (13, 24, {'weight': 207}), (13, 25, {'weight': 421}), (13, 26, {'weight': 166}), (13, 27, {'weight': 146}), (13, 28, {'weight': 342}), (13, 29, {'weight': 346}), (13, 30, {'weight': 406}), (13, 31, {'weight': 231}), (13, 32, {'weight': 180}), (13, 33, {'weight': 302}), (13, 34, {'weight': 129}), (13, 35, {'weight': 407}), (13, 36, {'weight': 312}), (13, 37, {'weight': 404}), (13, 38, {'weight': 200}), (13, 39, {'weight': 391}), (13, 40, {'weight': 222}), (13, 41, {'weight': 530}), (13, 42, {'weight': 338}), (13, 43, {'weight': 239}), (13, 44, {'weight': 218}), (13, 45, {'weight': 355}), (13, 46, {'weight': 252}), (13, 47, {'weight': 68}), (13, 48, {'weight': 406}), (13, 49, {'weight': 268}), (13, 50, {'weight': 328}), (13, 51, {'weight': 325}), (13, 52, {'weight': 98}), (13, 53, {'weight': 391}), (13, 54, {'weight': 436}), (13, 55, {'weight': 126}), (13, 56, {'weight': 240}), (13, 57, {'weight': 152}), (13, 58, {'weight': 367}), (13, 59, {'weight': 63}), (13, 60, {'weight': 203}), (13, 61, {'weight': 130}), (13, 62, {'weight': 462}), (14, 15, {'weight': 313}), (14, 16, {'weight': 164}), (14, 17, {'weight': 307}), (14, 18, {'weight': 301}), (14, 19, {'weight': 106}), (14, 20, {'weight': 208}), (14, 21, {'weight': 110}), (14, 22, {'weight': 90}), (14, 23, {'weight': 217}), (14, 24, {'weight': 482}), (14, 25, {'weight': 375}), (14, 26, {'weight': 170}), (14, 27, {'weight': 394}), (14, 28, {'weight': 254}), (14, 29, {'weight': 401}), (14, 30, {'weight': 246}), (14, 31, {'weight': 444}), (14, 32, {'weight': 294}), (14, 33, {'weight': 30}), (14, 34, {'weight': 370}), (14, 35, {'weight': 588}), (14, 36, {'weight': 516}), (14, 37, {'weight': 201}), (14, 38, {'weight': 154}), (14, 39, {'weight': 171}), (14, 40, {'weight': 493}), (14, 41, {'weight': 405}), (14, 42, {'weight': 446}), (14, 43, {'weight': 433}), (14, 44, {'weight': 168}), (14, 45, {'weight': 358}), (14, 46, {'weight': 451}), (14, 47, {'weight': 312}), (14, 48, {'weight': 191}), (14, 49, {'weight': 387}), (14, 50, {'weight': 56}), (14, 51, {'weight': 505}), (14, 52, {'weight': 360}), (14, 53, {'weight': 239}), (14, 54, {'weight': 625}), (14, 55, {'weight': 177}), (14, 56, {'weight': 471}), (14, 57, {'weight': 134}), (14, 58, {'weight': 427}), (14, 59, {'weight': 295}), (14, 60, {'weight': 476}), (14, 61, {'weight': 390}), (14, 62, {'weight': 385}), (15, 16, {'weight': 275}), (15, 17, {'weight': 374}), (15, 18, {'weight': 530}), (15, 19, {'weight': 219}), (15, 20, {'weight': 118}), (15, 21, {'weight': 269}), (15, 22, {'weight': 223}), (15, 23, {'weight': 219}), (15, 24, {'weight': 645}), (15, 25, {'weight': 181}), (15, 26, {'weight': 310}), (15, 27, {'weight': 516}), (15, 28, {'weight': 146}), (15, 29, {'weight': 311}), (15, 30, {'weight': 72}), (15, 31, {'weight': 507}), (15, 32, {'weight': 354}), (15, 33, {'weight': 292}), (15, 34, {'weight': 494}), (15, 35, {'weight': 565}), (15, 36, {'weight': 544}), (15, 37, {'weight': 116}), (15, 38, {'weight': 277}), (15, 39, {'weight': 151}), (15, 40, {'weight': 634}), (15, 41, {'weight': 103}), (15, 42, {'weight': 389}), (15, 43, {'weight': 478}), (15, 44, {'weight': 258}), (15, 45, {'weight': 240}), (15, 46, {'weight': 494}), (15, 47, {'weight': 539}), (15, 48, {'weight': 132}), (15, 49, {'weight': 377}), (15, 50, {'weight': 280}), (15, 51, {'weight': 505}), (15, 52, {'weight': 512}), (15, 53, {'weight': 85}), (15, 54, {'weight': 604}), (15, 55, {'weight': 351}), (15, 56, {'weight': 545}), (15, 57, {'weight': 341}), (15, 58, {'weight': 327}), (15, 59, {'weight': 527}), (15, 60, {'weight': 631}), (15, 61, {'weight': 531}), (15, 62, {'weight': 143}), (16, 17, {'weight': 151}), (16, 18, {'weight': 254}), (16, 19, {'weight': 186}), (16, 20, {'weight': 226}), (16, 21, {'weight': 237}), (16, 22, {'weight': 144}), (16, 23, {'weight': 77}), (16, 24, {'weight': 384}), (16, 25, {'weight': 253}), (16, 26, {'weight': 34}), (16, 27, {'weight': 268}), (16, 28, {'weight': 150}), (16, 29, {'weight': 242}), (16, 30, {'weight': 205}), (16, 31, {'weight': 296}), (16, 32, {'weight': 135}), (16, 33, {'weight': 174}), (16, 34, {'weight': 244}), (16, 35, {'weight': 426}), (16, 36, {'weight': 362}), (16, 37, {'weight': 209}), (16, 38, {'weight': 10}), (16, 39, {'weight': 202}), (16, 40, {'weight': 382}), (16, 41, {'weight': 336}), (16, 42, {'weight': 282}), (16, 43, {'weight': 279}), (16, 44, {'weight': 18}), (16, 45, {'weight': 212}), (16, 46, {'weight': 298}), (16, 47, {'weight': 263}), (16, 48, {'weight': 214}), (16, 49, {'weight': 223}), (16, 50, {'weight': 192}), (16, 51, {'weight': 345}), (16, 52, {'weight': 250}), (16, 53, {'weight': 190}), (16, 54, {'weight': 465}), (16, 55, {'weight': 75}), (16, 56, {'weight': 328}), (16, 57, {'weight': 79}), (16, 58, {'weight': 269}), (16, 59, {'weight': 252}), (16, 60, {'weight': 373}), (16, 61, {'weight': 274}), (16, 62, {'weight': 282}), (17, 18, {'weight': 234}), (17, 19, {'weight': 337}), (17, 20, {'weight': 360}), (17, 21, {'weight': 388}), (17, 22, {'weight': 295}), (17, 23, {'weight': 159}), (17, 24, {'weight': 277}), (17, 25, {'weight': 270}), (17, 26, {'weight': 137}), (17, 27, {'weight': 144}), (17, 28, {'weight': 227}), (17, 29, {'weight': 174}), (17, 30, {'weight': 315}), (17, 31, {'weight': 146}), (17, 32, {'weight': 19}), (17, 33, {'weight': 322}), (17, 34, {'weight': 123}), (17, 35, {'weight': 282}), (17, 36, {'weight': 211}), (17, 37, {'weight': 341}), (17, 38, {'weight': 159}), (17, 39, {'weight': 343}), (17, 40, {'weight': 261}), (17, 41, {'weight': 400}), (17, 42, {'weight': 170}), (17, 43, {'weight': 128}), (17, 44, {'weight': 157}), (17, 45, {'weight': 194}), (17, 46, {'weight': 146}), (17, 47, {'weight': 237}), (17, 48, {'weight': 351}), (17, 49, {'weight': 99}), (17, 50, {'weight': 342}), (17, 51, {'weight': 198}), (17, 52, {'weight': 152}), (17, 53, {'weight': 299}), (17, 54, {'weight': 319}), (17, 55, {'weight': 139}), (17, 56, {'weight': 180}), (17, 57, {'weight': 181}), (17, 58, {'weight': 195}), (17, 59, {'weight': 235}), (17, 60, {'weight': 261}), (17, 61, {'weight': 162}), (17, 62, {'weight': 319}), (18, 19, {'weight': 390}), (18, 20, {'weight': 466}), (18, 21, {'weight': 411}), (18, 22, {'weight': 353}), (18, 23, {'weight': 322}), (18, 24, {'weight': 200}), (18, 25, {'weight': 483}), (18, 26, {'weight': 220}), (18, 27, {'weight': 181}), (18, 28, {'weight': 400}), (18, 29, {'weight': 408}), (18, 30, {'weight': 459}), (18, 31, {'weight': 274}), (18, 32, {'weight': 242}), (18, 33, {'weight': 330}), (18, 34, {'weight': 171}), (18, 35, {'weight': 452}), (18, 36, {'weight': 354}), (18, 37, {'weight': 451}), (18, 38, {'weight': 252}), (18, 39, {'weight': 434}), (18, 40, {'weight': 227}), (18, 41, {'weight': 588}), (18, 42, {'weight': 397}), (18, 43, {'weight': 288}), (18, 44, {'weight': 272}), (18, 45, {'weight': 417}), (18, 46, {'weight': 299}), (18, 47, {'weight': 11}), (18, 48, {'weight': 451}), (18, 49, {'weight': 327}), (18, 50, {'weight': 357}), (18, 51, {'weight': 374}), (18, 52, {'weight': 130}), (18, 53, {'weight': 444}), (18, 54, {'weight': 479}), (18, 55, {'weight': 178}), (18, 56, {'weight': 277}), (18, 57, {'weight': 194}), (18, 58, {'weight': 429}), (18, 59, {'weight': 6}), (18, 60, {'weight': 202}), (18, 61, {'weight': 158}), (18, 62, {'weight': 523}), (19, 20, {'weight': 106}), (19, 21, {'weight': 63}), (19, 22, {'weight': 42}), (19, 23, {'weight': 202}), (19, 24, {'weight': 556}), (19, 25, {'weight': 321}), (19, 26, {'weight': 210}), (19, 27, {'weight': 451}), (19, 28, {'weight': 203}), (19, 29, {'weight': 383}), (19, 30, {'weight': 161}), (19, 31, {'weight': 483}), (19, 32, {'weight': 320}), (19, 33, {'weight': 78}), (19, 34, {'weight': 427}), (19, 35, {'weight': 603}), (19, 36, {'weight': 546}), (19, 37, {'weight': 103}), (19, 38, {'weight': 179}), (19, 39, {'weight': 69}), (19, 40, {'weight': 560}), (19, 41, {'weight': 319}), (19, 42, {'weight': 443}), (19, 43, {'weight': 465}), (19, 44, {'weight': 180}), (19, 45, {'weight': 326}), (19, 46, {'weight': 483}), (19, 47, {'weight': 401}), (19, 48, {'weight': 89}), (19, 49, {'weight': 396}), (19, 50, {'weight': 61}), (19, 51, {'weight': 525}), (19, 52, {'weight': 425}), (19, 53, {'weight': 159}), (19, 54, {'weight': 642}), (19, 55, {'weight': 235}), (19, 56, {'weight': 514}), (19, 57, {'weight': 201}), (19, 58, {'weight': 408}), (19, 59, {'weight': 385}), (19, 60, {'weight': 547}), (19, 61, {'weight': 453}), (19, 62, {'weight': 317}), (20, 21, {'weight': 151}), (20, 22, {'weight': 121}), (20, 23, {'weight': 202}), (20, 24, {'weight': 611}), (20, 25, {'weight': 258}), (20, 26, {'weight': 258}), (20, 27, {'weight': 492}), (20, 28, {'weight': 162}), (20, 29, {'weight': 355}), (20, 30, {'weight': 80}), (20, 31, {'weight': 505}), (20, 32, {'weight': 341}), (20, 33, {'weight': 183}), (20, 34, {'weight': 468}), (20, 35, {'weight': 598}), (20, 36, {'weight': 557}), (20, 37, {'weight': 18}), (20, 38, {'weight': 224}), (20, 39, {'weight': 37}), (20, 40, {'weight': 608}), (20, 41, {'weight': 221}), (20, 42, {'weight': 426}), (20, 43, {'weight': 481}), (20, 44, {'weight': 212}), (20, 45, {'weight': 288}), (20, 46, {'weight': 499}), (20, 47, {'weight': 476}), (20, 48, {'weight': 17}), (20, 49, {'weight': 394}), (20, 50, {'weight': 167}), (20, 51, {'weight': 526}), (20, 52, {'weight': 477}), (20, 53, {'weight': 88}), (20, 54, {'weight': 637}), (20, 55, {'weight': 294}), (20, 56, {'weight': 540}), (20, 57, {'weight': 271}), (20, 58, {'weight': 377}), (20, 59, {'weight': 462}), (20, 60, {'weight': 599}), (20, 61, {'weight': 500}), (20, 62, {'weight': 238}), (21, 22, {'weight': 97}), (21, 23, {'weight': 262}), (21, 24, {'weight': 589}), (21, 25, {'weight': 383}), (21, 26, {'weight': 255}), (21, 27, {'weight': 492}), (21, 28, {'weight': 266}), (21, 29, {'weight': 445}), (21, 30, {'weight': 219}), (21, 31, {'weight': 532}), (21, 32, {'weight': 373}), (21, 33, {'weight': 80}), (21, 34, {'weight': 469}), (21, 35, {'weight': 660}), (21, 36, {'weight': 599}), (21, 37, {'weight': 154}), (21, 38, {'weight': 229}), (21, 39, {'weight': 120}), (21, 40, {'weight': 597}), (21, 41, {'weight': 371}), (21, 42, {'weight': 503}), (21, 43, {'weight': 517}), (21, 44, {'weight': 233}), (21, 45, {'weight': 389}), (21, 46, {'weight': 535}), (21, 47, {'weight': 422}), (21, 48, {'weight': 137}), (21, 49, {'weight': 454}), (21, 50, {'weight': 54}), (21, 51, {'weight': 580}), (21, 52, {'weight': 463}), (21, 53, {'weight': 218}), (21, 54, {'weight': 699}), (21, 55, {'weight': 274}), (21, 56, {'weight': 562}), (21, 57, {'weight': 235}), (21, 58, {'weight': 471}), (21, 59, {'weight': 405}), (21, 60, {'weight': 582}), (21, 61, {'weight': 492}), (21, 62, {'weight': 377}), (22, 23, {'weight': 165}), (22, 24, {'weight': 515}), (22, 25, {'weight': 299}), (22, 26, {'weight': 167}), (22, 27, {'weight': 408}), (22, 28, {'weight': 178}), (22, 29, {'weight': 349}), (22, 30, {'weight': 156}), (22, 31, {'weight': 440}), (22, 32, {'weight': 278}), (22, 33, {'weight': 71}), (22, 34, {'weight': 384}), (22, 35, {'weight': 563}), (22, 36, {'weight': 504}), (22, 37, {'weight': 112}), (22, 38, {'weight': 137}), (22, 39, {'weight': 85}), (22, 40, {'weight': 518}), (22, 41, {'weight': 316}), (22, 42, {'weight': 405}), (22, 43, {'weight': 423}), (22, 44, {'weight': 138}), (22, 45, {'weight': 296}), (22, 46, {'weight': 441}), (22, 47, {'weight': 364}), (22, 48, {'weight': 105}), (22, 49, {'weight': 356}), (22, 50, {'weight': 69}), (22, 51, {'weight': 484}), (22, 52, {'weight': 384}), (22, 53, {'weight': 150}), (22, 54, {'weight': 602}), (22, 55, {'weight': 194}), (22, 56, {'weight': 472}), (22, 57, {'weight': 162}), (22, 58, {'weight': 374}), (22, 59, {'weight': 349}), (22, 60, {'weight': 506}), (22, 61, {'weight': 411}), (22, 62, {'weight': 302}), (23, 24, {'weight': 426}), (23, 25, {'weight': 176}), (23, 26, {'weight': 107}), (23, 27, {'weight': 299}), (23, 28, {'weight': 78}), (23, 29, {'weight': 185}), (23, 30, {'weight': 156}), (23, 31, {'weight': 302}), (23, 32, {'weight': 140}), (23, 33, {'weight': 219}), (23, 34, {'weight': 276}), (23, 35, {'weight': 403}), (23, 36, {'weight': 355}), (23, 37, {'weight': 183}), (23, 38, {'weight': 85}), (23, 39, {'weight': 190}), (23, 40, {'weight': 416}), (23, 41, {'weight': 266}), (23, 42, {'weight': 240}), (23, 43, {'weight': 278}), (23, 44, {'weight': 61}), (23, 45, {'weight': 141}), (23, 46, {'weight': 296}), (23, 47, {'weight': 330}), (23, 48, {'weight': 195}), (23, 49, {'weight': 196}), (23, 50, {'weight': 229}), (23, 51, {'weight': 327}), (23, 52, {'weight': 293}), (23, 53, {'weight': 140}), (23, 54, {'weight': 442}), (23, 55, {'weight': 147}), (23, 56, {'weight': 338}), (23, 57, {'weight': 157}), (23, 58, {'weight': 211}), (23, 59, {'weight': 321}), (23, 60, {'weight': 412}), (23, 61, {'weight': 312}), (23, 62, {'weight': 205}), (24, 25, {'weight': 545}), (24, 26, {'weight': 352}), (24, 27, {'weight': 134}), (24, 28, {'weight': 501}), (24, 29, {'weight': 425}), (24, 30, {'weight': 581}), (24, 31, {'weight': 200}), (24, 32, {'weight': 295}), (24, 33, {'weight': 509}), (24, 34, {'weight': 153}), (24, 35, {'weight': 348}), (24, 36, {'weight': 251}), (24, 37, {'weight': 593}), (24, 38, {'weight': 387}), (24, 39, {'weight': 585}), (24, 40, {'weight': 45}), (24, 41, {'weight': 677}), (24, 42, {'weight': 378}), (24, 43, {'weight': 231}), (24, 44, {'weight': 398}), (24, 45, {'weight': 465}), (24, 46, {'weight': 229}), (24, 47, {'weight': 190}), (24, 48, {'weight': 598}), (24, 49, {'weight': 326}), (24, 50, {'weight': 535}), (24, 51, {'weight': 294}), (24, 52, {'weight': 134}), (24, 53, {'weight': 565}), (24, 54, {'weight': 361}), (24, 55, {'weight': 320}), (24, 56, {'weight': 173}), (24, 57, {'weight': 355}), (24, 58, {'weight': 436}), (24, 59, {'weight': 207}), (24, 60, {'weight': 20}), (24, 61, {'weight': 115}), (24, 62, {'weight': 595}), (25, 26, {'weight': 281}), (25, 27, {'weight': 410}), (25, 28, {'weight': 121}), (25, 29, {'weight': 144}), (25, 30, {'weight': 177}), (25, 31, {'weight': 372}), (25, 32, {'weight': 254}), (25, 33, {'weight': 368}), (25, 34, {'weight': 392}), (25, 35, {'weight': 394}), (25, 36, {'weight': 390}), (25, 37, {'weight': 244}), (25, 38, {'weight': 261}), (25, 39, {'weight': 272}), (25, 40, {'weight': 522}), (25, 41, {'weight': 147}), (25, 42, {'weight': 222}), (25, 43, {'weight': 339}), (25, 44, {'weight': 237}), (25, 45, {'weight': 81}), (25, 46, {'weight': 353}), (25, 47, {'weight': 490}), (25, 48, {'weight': 263}), (25, 49, {'weight': 231}), (25, 50, {'weight': 369}), (25, 51, {'weight': 345}), (25, 52, {'weight': 422}), (25, 53, {'weight': 171}), (25, 54, {'weight': 432}), (25, 55, {'weight': 319}), (25, 56, {'weight': 411}), (25, 57, {'weight': 333}), (25, 58, {'weight': 153}), (25, 59, {'weight': 483}), (25, 60, {'weight': 527}), (25, 61, {'weight': 431}), (25, 62, {'weight': 55})]\n",
      "Centrais e graus mínimos: {1: 3, 2: 3, 3: 3, 4: 3, 5: 3, 6: 3, 7: 3, 8: 3, 9: 3, 10: 3, 11: 3, 12: 3, 13: 3, 14: 3, 15: 3, 16: 3, 17: 3, 18: 3, 19: 3, 20: 3, 21: 3, 22: 3, 23: 3, 24: 3, 25: 3}\n"
     ]
    }
   ],
   "source": [
    "import networkx as nx\n",
    "\n",
    "def read_graph_from_file(file_path):\n",
    "    with open(file_path, 'r') as f:\n",
    "        # Primeira linha: n (vértices), nc (centrais), m (arestas)\n",
    "        n, nc, m = map(int, f.readline().strip().split())\n",
    "        \n",
    "        # Próximas nc linhas: centrais e graus mínimos\n",
    "        centrais = {}\n",
    "        for _ in range(nc):\n",
    "            i, d = map(int, f.readline().strip().split())\n",
    "            centrais[i] = d\n",
    "        \n",
    "        # Próximas m linhas: arestas e custos\n",
    "        G = nx.Graph()\n",
    "        for _ in range(m):\n",
    "            i, j, c = map(int, f.readline().strip().split())\n",
    "            G.add_edge(i, j, weight=c)\n",
    "        \n",
    "    return G, centrais\n",
    "\n",
    "# Exemplo de uso\n",
    "file_path = './Instancias/tb8ch30_0.txt'\n",
    "grafo, centrais = read_graph_from_file(file_path)\n",
    "\n",
    "# Exibindo o grafo e as informações dos vértices centrais\n",
    "print(\"Grafo:\", grafo.edges(data=True))\n",
    "print(\"Centrais e graus mínimos:\", centrais)\n"
   ]
  },
  {
   "cell_type": "code",
   "execution_count": 50,
   "metadata": {},
   "outputs": [
    {
     "name": "stdout",
     "output_type": "stream",
     "text": [
      "Solução ótima encontrada!\n",
      "Solução ótima encontrada!\n",
      "Subtour Elimination: Objective Value = 6.0, Time = 0.23805499076843262 seconds\n",
      "MTZ: Objective Value = 6.0, Time = 0.25995349884033203 seconds\n"
     ]
    }
   ],
   "source": [
    "import time\n",
    "\n",
    "def compare_formulations(G):\n",
    "    start_time = time.time()\n",
    "    obj_value_subtour = solve_with_subtour_elimination(G)\n",
    "    time_subtour = time.time() - start_time\n",
    "\n",
    "    start_time = time.time()\n",
    "    obj_value_mtz = solve_with_mtz(G)\n",
    "    time_mtz = time.time() - start_time\n",
    "\n",
    "    print(f\"Subtour Elimination: Objective Value = {obj_value_subtour}, Time = {time_subtour} seconds\")\n",
    "    print(f\"MTZ: Objective Value = {obj_value_mtz}, Time = {time_mtz} seconds\")\n",
    "\n",
    "# Exemplo de comparação\n",
    "compare_formulations(grafo)\n"
   ]
  }
 ],
 "metadata": {
  "kernelspec": {
   "display_name": "Python 3",
   "language": "python",
   "name": "python3"
  },
  "language_info": {
   "codemirror_mode": {
    "name": "ipython",
    "version": 3
   },
   "file_extension": ".py",
   "mimetype": "text/x-python",
   "name": "python",
   "nbconvert_exporter": "python",
   "pygments_lexer": "ipython3",
   "version": "3.10.12"
  }
 },
 "nbformat": 4,
 "nbformat_minor": 2
}
